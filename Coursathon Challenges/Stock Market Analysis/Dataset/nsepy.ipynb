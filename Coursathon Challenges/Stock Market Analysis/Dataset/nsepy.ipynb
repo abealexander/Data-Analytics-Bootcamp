{
 "cells": [
  {
   "cell_type": "code",
   "execution_count": 28,
   "id": "327d4db5",
   "metadata": {},
   "outputs": [],
   "source": [
    "from nsepy import get_history\n",
    "from datetime import date\n",
    "import pandas as pd"
   ]
  },
  {
   "cell_type": "code",
   "execution_count": 29,
   "id": "6212a929",
   "metadata": {},
   "outputs": [],
   "source": [
    "df = pd.read_excel(\"./mcwb_may22/Nifty 100.xlsx\")"
   ]
  },
  {
   "cell_type": "code",
   "execution_count": 32,
   "id": "39141b7f",
   "metadata": {},
   "outputs": [],
   "source": [
    "n50 = df['Security Symbol']"
   ]
  },
  {
   "cell_type": "code",
   "execution_count": 33,
   "id": "b89df30b",
   "metadata": {},
   "outputs": [
    {
     "name": "stdout",
     "output_type": "stream",
     "text": [
      "ADANIPORTS done\n",
      "APOLLOHOSP done\n",
      "ASIANPAINT done\n",
      "AXISBANK done\n",
      "BAJAJ-AUTO done\n",
      "BAJFINANCE done\n",
      "BAJAJFINSV done\n",
      "BPCL done\n",
      "BHARTIARTL done\n",
      "BRITANNIA done\n",
      "CIPLA done\n",
      "COALINDIA done\n",
      "DIVISLAB done\n",
      "DRREDDY done\n",
      "EICHERMOT done\n",
      "GRASIM done\n",
      "HCLTECH done\n",
      "HDFCBANK done\n",
      "HDFCLIFE done\n",
      "HEROMOTOCO done\n",
      "HINDALCO done\n",
      "HINDUNILVR done\n",
      "HDFC done\n",
      "ICICIBANK done\n",
      "ITC done\n",
      "INDUSINDBK done\n",
      "INFY done\n",
      "JSWSTEEL done\n",
      "KOTAKBANK done\n",
      "LT done\n",
      "M&M done\n",
      "MARUTI done\n",
      "NTPC done\n",
      "NESTLEIND done\n",
      "ONGC done\n",
      "POWERGRID done\n",
      "RELIANCE done\n",
      "SBILIFE done\n",
      "SHREECEM done\n",
      "SBIN done\n",
      "SUNPHARMA done\n",
      "TCS done\n",
      "TATACONSUM done\n",
      "TATAMOTORS done\n",
      "TATASTEEL done\n",
      "TECHM done\n",
      "TITAN done\n",
      "UPL done\n",
      "ULTRACEMCO done\n",
      "WIPRO done\n",
      "ACC done\n",
      "ADANIENT done\n",
      "ADANIGREEN done\n",
      "ADANITRANS done\n",
      "AMBUJACEM done\n",
      "DMART done\n",
      "BAJAJHLDNG done\n",
      "BANDHANBNK done\n",
      "BANKBARODA done\n",
      "BERGEPAINT done\n",
      "BIOCON done\n",
      "BOSCHLTD done\n",
      "CHOLAFIN done\n",
      "COLPAL done\n",
      "DLF done\n",
      "DABUR done\n",
      "NYKAA done\n",
      "GAIL done\n",
      "GLAND done\n",
      "GODREJCP done\n",
      "HDFCAMC done\n",
      "HAVELLS done\n",
      "ICICIGI done\n",
      "ICICIPRULI done\n",
      "IOC done\n",
      "INDUSTOWER done\n",
      "NAUKRI done\n",
      "INDIGO done\n",
      "JUBLFOOD done\n",
      "LTI done\n",
      "LUPIN done\n",
      "MARICO done\n",
      "MINDTREE done\n",
      "MUTHOOTFIN done\n",
      "NMDC done\n",
      "PAYTM done\n",
      "PIIND done\n",
      "PIDILITIND done\n",
      "PEL done\n",
      "PGHH done\n",
      "PNB done\n",
      "SBICARD done\n",
      "SRF done\n",
      "SIEMENS done\n",
      "SAIL done\n",
      "TORNTPHARM done\n",
      "MCDOWELL-N done\n",
      "VEDL done\n",
      "ZOMATO done\n",
      "ZYDUSLIFE done\n"
     ]
    }
   ],
   "source": [
    "for i in n50:\n",
    "    csvname = i + \".csv\"\n",
    "    data = get_history(symbol=i, start=date(2011,6,1), end=date(2022,6,1))\n",
    "    data.to_csv(csvname)\n",
    "    print(i, \"done\")"
   ]
  },
  {
   "cell_type": "code",
   "execution_count": 35,
   "id": "833321a4",
   "metadata": {},
   "outputs": [],
   "source": [
    "gland = get_history(symbol=\"GLAND\", start=date(2011,6,1), end=date(2022,6,1))"
   ]
  },
  {
   "cell_type": "code",
   "execution_count": 36,
   "id": "c58f1504",
   "metadata": {},
   "outputs": [
    {
     "data": {
      "text/html": [
       "<div>\n",
       "<style scoped>\n",
       "    .dataframe tbody tr th:only-of-type {\n",
       "        vertical-align: middle;\n",
       "    }\n",
       "\n",
       "    .dataframe tbody tr th {\n",
       "        vertical-align: top;\n",
       "    }\n",
       "\n",
       "    .dataframe thead th {\n",
       "        text-align: right;\n",
       "    }\n",
       "</style>\n",
       "<table border=\"1\" class=\"dataframe\">\n",
       "  <thead>\n",
       "    <tr style=\"text-align: right;\">\n",
       "      <th></th>\n",
       "      <th>Symbol</th>\n",
       "      <th>Series</th>\n",
       "      <th>Prev Close</th>\n",
       "      <th>Open</th>\n",
       "      <th>High</th>\n",
       "      <th>Low</th>\n",
       "      <th>Last</th>\n",
       "      <th>Close</th>\n",
       "      <th>VWAP</th>\n",
       "      <th>Volume</th>\n",
       "      <th>Turnover</th>\n",
       "      <th>Trades</th>\n",
       "      <th>Deliverable Volume</th>\n",
       "      <th>%Deliverble</th>\n",
       "    </tr>\n",
       "    <tr>\n",
       "      <th>Date</th>\n",
       "      <th></th>\n",
       "      <th></th>\n",
       "      <th></th>\n",
       "      <th></th>\n",
       "      <th></th>\n",
       "      <th></th>\n",
       "      <th></th>\n",
       "      <th></th>\n",
       "      <th></th>\n",
       "      <th></th>\n",
       "      <th></th>\n",
       "      <th></th>\n",
       "      <th></th>\n",
       "      <th></th>\n",
       "    </tr>\n",
       "  </thead>\n",
       "  <tbody>\n",
       "  </tbody>\n",
       "</table>\n",
       "</div>"
      ],
      "text/plain": [
       "Empty DataFrame\n",
       "Columns: [Symbol, Series, Prev Close, Open, High, Low, Last, Close, VWAP, Volume, Turnover, Trades, Deliverable Volume, %Deliverble]\n",
       "Index: []"
      ]
     },
     "execution_count": 36,
     "metadata": {},
     "output_type": "execute_result"
    }
   ],
   "source": [
    "gland"
   ]
  },
  {
   "cell_type": "code",
   "execution_count": null,
   "id": "1c232b7c",
   "metadata": {},
   "outputs": [],
   "source": []
  }
 ],
 "metadata": {
  "kernelspec": {
   "display_name": "Python 3",
   "language": "python",
   "name": "python3"
  },
  "language_info": {
   "codemirror_mode": {
    "name": "ipython",
    "version": 3
   },
   "file_extension": ".py",
   "mimetype": "text/x-python",
   "name": "python",
   "nbconvert_exporter": "python",
   "pygments_lexer": "ipython3",
   "version": "3.8.10"
  }
 },
 "nbformat": 4,
 "nbformat_minor": 5
}
